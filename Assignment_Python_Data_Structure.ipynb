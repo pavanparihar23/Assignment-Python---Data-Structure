{
  "nbformat": 4,
  "nbformat_minor": 0,
  "metadata": {
    "colab": {
      "provenance": []
    },
    "kernelspec": {
      "name": "python3",
      "display_name": "Python 3"
    },
    "language_info": {
      "name": "python"
    }
  },
  "cells": [
    {
      "cell_type": "markdown",
      "source": [
        "Ques-1 What are data structures, and why are they important?\n",
        "\n",
        "Ans-1 A data structure is a way of organizing and storing data in a computer so that it can be accessed and modified efficiently. It defines the layout, relationships, and operations that can be performed on the data. Data structures are fundamental to computer science and programming because they allow you to manage data in ways that optimize speed and resource utilization for specific tasks.\n",
        "\n",
        "Types of Data Structures:-\n",
        "There are several types of data structures, each suited to different types of problems:\n",
        "\n",
        "1- Linear Data Structures: These store data in a linear sequence (one after the other). Examples include:\n",
        "\n",
        "Arrays: A collection of elements identified by index or key.\n",
        "\n",
        "Linked Lists: A sequence of elements, where each element points to the next one.\n",
        "\n",
        "Stacks: A collection of elements with Last-In-First-Out (LIFO) access.\n",
        "\n",
        "Queues: A collection of elements with First-In-First-Out (FIFO) access.\n",
        "\n",
        "2- Non-Linear Data Structures: These store data in a hierarchical or interconnected way. Examples include:\n",
        "\n",
        "Trees: Data elements are organized hierarchically, where each element has a value and pointers to other elements.\n",
        "\n",
        "Graphs: A collection of nodes (vertices) connected by edges, allowing complex relationships between elements.\n",
        "\n",
        "3- Hash-Based Data Structures: These use hash functions to map keys to values for fast lookups. Examples include:\n",
        "\n",
        "Hash Tables: A data structure that stores key-value pairs and uses a hash function to quickly locate data.\n",
        "\n",
        "4- Other Specialized Data Structures: These are used for specific purposes, such as:\n",
        "\n",
        "Heaps: A specialized tree-based structure that satisfies the heap property.\n",
        "\n",
        "Trie: A tree-like structure that stores a dynamic set of strings for efficient retrieval.\n",
        "\n",
        "Why Are Data Structures Important?\n",
        "\n",
        "Data structures are crucial for several reasons:\n",
        "\n",
        "1- Efficient Data Management:\n",
        "\n",
        "They allow data to be stored in ways that enable fast retrieval, insertion, and deletion.\n",
        "\n",
        "Without proper data structures, performing these operations could be very slow and inefficient.\n",
        "\n",
        "2- Optimization:\n",
        "\n",
        "By choosing the right data structure, you can optimize the performance of algorithms and reduce the time and space complexity of your programs.\n",
        "\n",
        "For example, searching for an element in a hash table can be much faster than in an array, depending on the use case.\n",
        "\n",
        "3- Problem-Solving:\n",
        "\n",
        "Many complex problems (like network routing, database indexing, etc.) can be effectively solved using the right data structures.\n",
        "\n",
        "They help manage relationships between pieces of data (like hierarchical data in trees or interconnected data in graphs).\n",
        "\n",
        "4- Memory Efficiency:\n",
        "\n",
        "Proper data structures minimize wasted memory and help ensure that resources are used optimally, which is especially important in environments with limited resources (like embedded systems).\n",
        "\n",
        "Real-World Applications:\n",
        "\n",
        "5- Data structures are fundamental to the implementation of various software applications, from operating systems and databases to web applications and machine learning models.\n",
        "\n",
        "In summary, understanding and using data structures appropriately is key to building efficient, scalable, and optimized software. They are essential for solving real-world computational problems effectively.\n",
        "\n",
        "\n",
        "\n",
        "\n",
        "\n",
        "\n",
        "\n"
      ],
      "metadata": {
        "id": "ad7Jb9mGNAcC"
      }
    },
    {
      "cell_type": "markdown",
      "source": [
        "Ques-2 Explain the difference between mutable and immutable data types with examples.\n",
        "Ans-2 Difference Between Mutable and Immutable Data Types\n",
        "The distinction between mutable and immutable data types revolves around whether or not the data in a variable can be changed after it is created.\n",
        "\n",
        "Mutable Data Types:\n",
        "A mutable data type is one whose value or content can be modified after it is created. In other words, you can change the data inside the object, and the object itself remains the same.\n",
        "\n",
        "Characteristics of Mutable Data Types:\n",
        "\n",
        "Changeable: The contents of the object can be altered without changing the object reference.\n",
        "\n",
        "Efficient Memory Usage: Since the object can be modified, it typically uses less memory when changed, because the object itself is updated rather than creating a new one.\n",
        "\n",
        "Examples of Mutable Data Types in Python:\n",
        "\n",
        " 1- Lists: Lists are mutable because you can change their contents (add, remove, or modify elements).\n",
        " 2- Dictionaries: Dictionaries are mutable because you can add, modify, or delete key-value pairs.\n",
        "\n",
        "3- Sets: Sets are mutable because you can add or remove elements.\n",
        "\n",
        "Immutable Data Types:\n",
        "\n",
        "An immutable data type is one whose value or content cannot be changed after it is created. If you attempt to modify an immutable object, a new object is created instead, and the original remains unchanged.\n",
        "\n",
        "Characteristics of Immutable Data Types:\n",
        "\n",
        "Unchangeable: The contents cannot be modified. Any operation that alters the object will create a new object instead of modifying the existing one.\n",
        "\n",
        "Safety: Since their values cannot be changed, immutable data types are often used to avoid unintended side effects or bugs in programs.\n",
        "\n",
        "Examples of Immutable Data Types in Python:\n",
        "\n",
        "1- Tuples: Tuples are immutable because once you create them, you cannot change their elements.\n",
        "\n",
        "2- Strings: Strings are immutable because you cannot change individual characters in a string. Any modification creates a new string.\n",
        "\n",
        "3- Frozensets: Frozensets are immutable versions of sets. Once created, their elements cannot be changed.\n",
        "\n",
        "Key Differences:\n",
        "\n",
        "1- Mutability:\n",
        "\n",
        "Mutable types (like lists, sets, and dictionaries) allow changes to their contents.\n",
        "\n",
        "Immutable types (like strings, tuples, and frozensets) do not allow changes to their contents once created.\n",
        "\n",
        "2- Performance Considerations:\n",
        "\n",
        "Mutable objects can be more efficient when frequent changes to the data are needed.\n",
        "\n",
        "Immutable objects might use more memory since every modification creates a new object, but they are often preferred for thread safety or as keys in dictionaries (since their content does not change).\n",
        "\n",
        "3- Use Cases:\n",
        "\n",
        "Mutable types are useful when you need to frequently modify or update the data in place.\n",
        "\n",
        "Immutable types are ideal when you want to ensure that the data cannot be changed inadvertently, providing stability and predictability in your code.\n",
        "\n",
        "\n",
        "\n",
        "\n"
      ],
      "metadata": {
        "id": "bt4UXrbgPCwe"
      }
    },
    {
      "cell_type": "markdown",
      "source": [
        "Ques-3 What are the main differences between lists and tuples in Python?\n",
        "\n",
        "Ans-3 In Python, lists and tuples are both used to store collections of items. However, there are several key differences between them:\n",
        "\n",
        "1- Mutability:\n",
        "\n",
        "Lists are mutable: You can modify a list after it has been created (e.g., add, remove, or change elements).\n",
        "\n",
        "Tuples are immutable: Once a tuple is created, its elements cannot be modified.\n",
        "\n",
        "2- Syntax:\n",
        "\n",
        "Lists are defined using square brackets\n",
        "\n",
        "Tuples are defined using parentheses\n",
        "\n",
        "Tuples with a single element require a trailing comma:\n",
        "\n",
        "single_element_tuple = (1,)  # Correct\n",
        "\n",
        "3- Performance\n",
        "\n",
        "Tuples are generally faster than lists because they are immutable. Since their size and content cannot change, Python can optimize memory and access for tuples.\n",
        "\n",
        "Lists are slower due to the overhead of allowing modifications.\n",
        "\n",
        "4- Use Cases\n",
        "\n",
        "Lists are typically used when you need a collection that may change over time (e.g., a shopping list, list of numbers that will be modified).\n",
        "\n",
        "Tuples are used when you want to ensure the data remains constant, such as storing coordinates, function arguments, or records that shouldn't be modified.\n",
        "\n",
        "5-  Methods Available\n",
        "\n",
        "Lists have several built-in methods for modification, such as append(), remove(), pop(), and extend().\n",
        "\n",
        "Tuples have fewer methods because they are immutable. They support methods like count() and index().\n",
        "\n",
        "6- Memory Consumption\n",
        "\n",
        "Tuples generally consume less memory than lists, as they do not have the overhead required for mutability.\n",
        "\n",
        "7-  Hashability\n",
        "\n",
        "Tuples are hashable, meaning they can be used as keys in dictionaries, whereas lists are not hashable and cannot be used as dictionary keys.\n",
        "python.\n",
        "\n"
      ],
      "metadata": {
        "id": "SF-L7QvXSfwU"
      }
    },
    {
      "cell_type": "markdown",
      "source": [
        "Ques-4 Describe how dictionaries store data.\n",
        "\n",
        "Ans-4 In Python, dictionaries are a type of data structure used to store key-value pairs. They are unordered, mutable, and indexed collections, where each item is stored as a pair consisting of a key and a value. Here's how dictionaries store and organize data:\n",
        "\n",
        "Key Features of Dictionaries:-\n",
        "\n",
        "1- Key-Value Pair:\n",
        "\n",
        "A dictionary is made up of pairs where each key is unique, and each key is associated with a value.\n",
        "\n",
        "The key is used to access the corresponding value in the dictionary.\n",
        "\n",
        "2- Keys:\n",
        "\n",
        "Keys in a dictionary must be immutable (e.g., strings, numbers, tuples).\n",
        "\n",
        "A key must be unique: If you use the same key more than once, the dictionary will update the value associated with that key (the previous value is replaced).\n",
        "\n",
        "3- Values:\n",
        "\n",
        "Values in a dictionary can be of any type, and they don't have to be unique.\n",
        "\n",
        "Values can be mutable or immutable (e.g., integers, lists, strings, or even other dictionaries).\n",
        "\n",
        "4- Unordered:\n",
        "\n",
        "Dictionaries are unordered in the sense that the key-value pairs do not maintain any specific order. However, starting from Python 3.7, dictionaries preserve insertion order, meaning that items will appear in the order they were added to the dictionary.\n",
        "\n",
        "Even though they may appear to maintain order in newer versions of Python, the dictionary itself is not an ordered data structure by design.\n",
        "\n",
        "5- Hashing:\n",
        "\n",
        "Dictionaries use a hashing mechanism to store and retrieve key-value pairs efficiently.\n",
        "\n",
        "When a key is added to the dictionary, Python computes a hash value for the key. This hash value determines where the key-value pair is stored in memory.\n",
        "\n",
        "The hash function ensures that the dictionary can quickly access values associated with keys in constant time on average, O(1).\n",
        "\n",
        "This is why keys must be hashable, meaning their hash value must remain constant throughout their lifetime (e.g., immutable types like strings, integers, and tuples are hashable).\n",
        "\n",
        "6- Efficiency:\n",
        "\n",
        "Accessing data in a dictionary (by key) is very fast on average, thanks to the underlying hash table implementation.\n",
        "\n",
        "Insertion and deletion of key-value pairs are also fast (amortized O(1) time complexity).\n",
        "\n",
        "Internal Storage Mechanism (Hash Table)\n",
        "\n",
        "Internally, a dictionary in Python is implemented as a hash table. When you add a key-value pair, Python:\n",
        "\n",
        "1- Hashes the key to compute a hash value.\n",
        "\n",
        "2- Uses the hash value to determine where the pair should be stored in memory.\n",
        "\n",
        "3- Maps that key to its associated value.\n",
        "\n",
        "When you retrieve a value, Python computes the hash of the key and uses the hash value to directly access the value in memory, making lookups very fast.\n",
        "\n",
        "\n",
        "\n"
      ],
      "metadata": {
        "id": "DIs85FIQVcd0"
      }
    },
    {
      "cell_type": "markdown",
      "source": [
        "Ques-5 Why might you use a set instead of a list in Python?\n",
        "\n",
        "Ans-5 In Python, you might choose to use a set instead of a list in certain situations due to the following reasons\n",
        "\n",
        "1- Unique Elements:\n",
        "\n",
        "Set: Automatically ensures that all elements are unique. If you try to add a duplicate element to a set, it will not be added.\n",
        "\n",
        "List: Allows duplicates, meaning the same element can appear multiple times.\n",
        "\n",
        "2- Performance (Time Complexity):\n",
        "\n",
        "Set: Provides O(1) average time complexity for membership tests (checking if an element is in the set), adding elements, and removing elements. This makes sets highly efficient when working with large datasets.\n",
        "\n",
        "List: Checking if an element is in the list takes O(n) time (where n is the number of elements in the list), which can be slower than the set, especially with larger collections.\n",
        "\n",
        "3- Mathematical Operations (Set Theory):\n",
        "\n",
        "Set: Supports mathematical set operations such as union, intersection, difference, and symmetric difference. This is useful for tasks involving comparisons or working with multiple groups of items.\n",
        "\n",
        "List: Does not support these operations directly. You would have to use loops or other methods to achieve similar results.\n",
        "\n",
        "4- Faster Lookups:\n",
        "\n",
        "Set: Typically faster than a list for checking if an element exists, as it uses a hash table for storage.\n",
        "\n",
        "List: Slower lookups since it requires scanning each element in sequence to determine if a value is present.\n",
        "\n",
        "5- No Order:\n",
        "\n",
        "Set: Does not maintain any specific order of elements. If order is not important to your task, using a set could simplify the problem.\n",
        "\n",
        "List: Maintains the order of elements, so if you need to preserve insertion order or index-based access, lists are the better choice.\n",
        "\n",
        "\n",
        "\n",
        "\n"
      ],
      "metadata": {
        "id": "ZcVTic_LXubj"
      }
    },
    {
      "cell_type": "markdown",
      "source": [
        "Ques-6 What is a string in Python, and how is it different from a list?\n",
        "\n",
        "Ans-6 In Python, both strings and lists are used to store sequences of data, but they have significant differences in terms of their behavior, usage, and characteristics.\n",
        "\n",
        "String in Python:\n",
        "\n",
        "Definition: A string is a sequence of characters, typically used to represent text.\n",
        "\n",
        "Syntax: Strings are created by enclosing characters in single quotes (') or double quotes (\").\n",
        "\n",
        "Immutability: Strings are immutable, meaning that once a string is created, it cannot be changed. You cannot modify individual characters in a string directly.\n",
        "\n",
        "Methods: Strings come with a variety of built-in methods for operations like concatenation, searching, splitting, replacing, etc.\n",
        "\n",
        "List in Python:\n",
        "\n",
        "Definition: A list is an ordered collection of elements, which can be of any data type, including numbers, strings, or even other lists.\n",
        "\n",
        "Syntax: Lists are created by enclosing elements in square brackets ([]), with elements separated by commas.\n",
        "\n",
        "Mutability: Lists are mutable, meaning you can change, add, or remove elements from a list after it has been created.\n",
        "\n",
        "Methods: Lists come with a wide range of methods to manipulate the data, such as appending, removing, sorting, etc.\n",
        "\n",
        "Summary:\n",
        "\n",
        "A string is a sequence of characters, and it is immutable.\n",
        "\n",
        "A list is an ordered collection that can hold elements of any data type, and it is mutable.\n",
        "\n"
      ],
      "metadata": {
        "id": "6rGPzXEJZ-z1"
      }
    },
    {
      "cell_type": "markdown",
      "source": [
        "Ques-7 How do tuples ensure data integrity in Python?\n",
        "\n",
        "Ans-7 In Python, tuples ensure data integrity through their immutability. This means that once a tuple is created, its elements cannot be changed, added, or removed. This feature makes tuples particularly useful when you want to ensure that the data stored within them remains constant throughout the execution of a program.\n",
        "\n",
        "Here are the key ways tuples ensure data integrity:\n",
        "\n",
        "1. Immutability\n",
        "\n",
        "Definition: Tuples are immutable, meaning that once they are created, their contents cannot be altered. You cannot modify, append, or remove elements from a tuple after its creation.\n",
        "\n",
        "2. Safe Storage of Constant Data\n",
        "\n",
        "Since tuples cannot be altered, they are useful for storing constant values that should not be modified during the program's execution. This is ideal for representing fixed collections of data like configurations, coordinates, or keys in a database, where integrity and consistency are important.\n",
        "\n",
        "3. Hashability\n",
        "\n",
        "Tuples are hashable (as long as their elements are also hashable). This makes them suitable to be used as keys in dictionaries or elements in sets, where the integrity of the tuple's data is crucial. If a tuple were mutable, its hash value could change, which would break the functionality of dictionaries and sets.\n",
        "\n",
        "4. Data Integrity in Function Arguments\n",
        "\n",
        "Tuples can be used to pass data between functions where you want to ensure the data passed remains unchanged. This helps avoid unintentional modifications to the data.\n",
        "\n",
        "5. Prevention of Errors\n",
        "\n",
        "Since tuples cannot be changed after creation, they prevent bugs that might occur due to accidental data modification. For example, in a mutable structure like a list, it's easy to accidentally modify data that should remain constant. With tuples, this kind of modification is impossible.\n",
        "\n",
        "\n",
        "\n"
      ],
      "metadata": {
        "id": "4A1C_t15bJeH"
      }
    },
    {
      "cell_type": "markdown",
      "source": [
        "Ques-8 What is a hash table, and how does it relate to dictionaries in Python?\n",
        "\n",
        "Ans-8 A hash table (or hash map) is a data structure that allows you to store key-value pairs, where each key is unique. It is designed to provide efficient lookup, insertion, and deletion operations, typically in constant time O(1).\n",
        "\n",
        "How Hash Tables Work:\n",
        "\n",
        "Hash Function: When a key is provided, a hash function is applied to the key. The hash function generates an integer (called a hash value) that determines the position in the hash table where the corresponding value will be stored.\n",
        "\n",
        "Buckets: The hash table is divided into a set of buckets (or slots), where each bucket can hold one or more key-value pairs. The hash value helps in determining which bucket a particular key-value pair will be placed in.\n",
        "\n",
        "Handling Collisions: Sometimes, two different keys might hash to the same index (this is called a collision). To handle collisions, hash tables employ techniques such as:\n",
        "\n",
        "Chaining: Storing multiple key-value pairs in the same bucket (e.g., using a linked list).\n",
        "\n",
        "Open Addressing: Finding another bucket that is free (probing) when a collision occurs.\n",
        "\n",
        "How Hash Tables Relate to Python Dictionaries\n",
        "\n",
        "In Python, a dictionary is a built-in data structure that works similarly to a hash table. It stores key-value pairs and provides fast access to values based on their keys. Python dictionaries are implemented using hash tables under the hood.\n",
        "\n",
        "Key Characteristics of Python Dictionaries:\n",
        "\n",
        "Key-Value Pairs: Like hash tables, Python dictionaries store data in the form of key-value pairs. Each key must be unique, and keys must be of a type that is hashable (e.g., strings, integers, tuples).\n",
        "\n",
        "Efficient Lookup: Python dictionaries provide constant-time average complexity O(1) for key lookups, insertions, and deletions, assuming a good hash function and handling of collisions.\n",
        "\n",
        "Immutability of Keys: Keys in a Python dictionary must be immutable types (e.g., integers, strings, tuples). This is because the keys are hashed, and a mutable object could change its hash value, which would break the dictionary's internal structure.\n",
        "\n",
        "Summary\n",
        "A hash table is a data structure that stores key-value pairs efficiently, using a hash function to compute an index where each key-value pair should be stored. Python dictionaries are implemented as hash tables, allowing for efficient storage and retrieval of data based on keys. The dictionary provides a high-level interface to the hash table, abstracting away the complexity of hashing and collision handling, making it a powerful and widely-used data structure in Python."
      ],
      "metadata": {
        "id": "xH6kIl7YdJWm"
      }
    },
    {
      "cell_type": "markdown",
      "source": [
        "Ques-9 Can lists contain different data types in Python.\n",
        "\n",
        "Ans-9 Yes, lists in Python can contain elements of different data types. A single list can hold integers, strings, floats, booleans, and even other lists or objects. This flexibility is one of the strengths of Python.\n",
        "\n",
        "Here’s an example of a list with different data types:\n",
        "\n",
        "my_list = [42, \"hello\", 3.14, True, [1, 2, 3]]\n",
        "\n",
        "\n",
        "In this list:\n",
        "\n",
        "42 is an integer\n",
        "\"hello\" is a string\n",
        "3.14 is a float\n",
        "True is a boolean\n",
        "[1, 2, 3] is another list\n",
        "You can access and manipulate these elements just like any other list items, regardless of their data types.\n",
        "\n",
        "Ques-10 Explain why strings are immutable in Python.\n",
        "\n",
        "Ans-10 In Python, strings are immutable, meaning that once a string is created, it cannot be modified. This characteristic is important for several reasons:\n",
        "\n",
        "1. Efficiency in Memory Management\n",
        "\n",
        "Memory optimization: Since strings are immutable, Python can store and reuse string objects more efficiently. When a string is created, its value is stored in memory, and if the same string is used elsewhere, Python can point to the same memory location rather than creating a new copy. This is known as string interning.\n",
        "\n",
        "Less overhead: When you modify a string, rather than altering the existing string object, Python creates a new string. This avoids potential issues like unintentional side effects if multiple references point to the same string.\n",
        "\n",
        "2. Consistency in Program Behavior\n",
        "\n",
        "Predictable behavior: Immutability ensures that once a string is created, its value cannot be changed accidentally, leading to more reliable and predictable code. This is especially useful in multi-threaded environments, where you want to ensure that shared data (such as strings) is not modified unexpectedly.\n",
        "\n",
        "Security: In some cases, immutability provides a layer of security, preventing unauthorized changes to string values.\n",
        "\n",
        "3. Optimization in Hashing and Caching\n",
        "\n",
        "Strings in Python are used as keys in dictionaries and elements in sets. The immutability of strings ensures that their hash value remains consistent during the program's execution. This allows efficient lookups, insertions, and deletions in data structures like dictionaries and sets.\n",
        "\n",
        "4. Design Philosophy\n",
        "\n",
        "Python's design philosophy encourages simplicity and clear, readable code. By making strings immutable, Python ensures that string manipulation is done in a straightforward way—creating a new string rather than modifying an existing one. This also aligns with functional programming principles where data is often treated as immutable.\n",
        "\n",
        "Conclusion:\n",
        "\n",
        "Strings are immutable in Python to improve performance, ensure consistency and safety, and make the language more predictable and efficient. This design choice also simplifies string handling in Python, as developers don't need to worry about unexpected changes to string values during program execution.\n",
        "\n",
        "\n",
        "\n",
        "\n",
        "\n",
        "\n",
        "\n"
      ],
      "metadata": {
        "id": "HLxsfA4NiQ75"
      }
    },
    {
      "cell_type": "markdown",
      "source": [
        "Ques-11 What advantages do dictionaries offer over lists for certain tasks?\n",
        "\n",
        "Ans-11 Dictionaries offer several advantages over lists for certain tasks, particularly when it comes to storing and accessing data efficiently. Here are some key benefits:\n",
        "\n",
        "1. Fast Lookups by Key\n",
        "O(1) Time Complexity: Dictionaries allow you to access values by keys in constant time,\n",
        "O(1), on average. This makes them much faster than lists for searching for specific items when you know the key, whereas lists require\n",
        "O(n) time to search through each item to find a match.\n",
        "2. Key-Value Pairs\n",
        "Structured Data: Dictionaries store data as key-value pairs, allowing for more structured data storage. You can associate a value with a unique key, making it easy to represent relationships or attributes of objects (e.g., a person's name as the key and their age as the value).\n",
        "3. No Duplicates in Keys\n",
        "Unique Keys: Dictionaries automatically enforce uniqueness of keys. If you try to add a duplicate key, the value will be updated instead of creating a new entry, which helps maintain data integrity. Lists, on the other hand, allow duplicate elements, which may make it harder to track uniqueness or relationships.\n",
        "4. Efficient Updates\n",
        "Fast Modifications: Updating an existing key-value pair in a dictionary is typically fast and happens in constant time. In a list, finding and updating a value requires finding the index first (which is slower compared to direct key access in dictionaries).\n",
        "5. Flexibility in Key Types\n",
        "Key Flexibility: In dictionaries, the keys can be of any immutable data type (e.g., strings, numbers, tuples), which makes them versatile for many tasks. Lists are inherently ordered and can only store data sequentially, which limits how data can be associated or organized.\n",
        "6. Better for Associative Operations\n",
        "Mapping Relationships: When you need to store associations, such as mapping names to phone numbers or IDs to records, dictionaries excel at this type of task. Lists would require you to use indices or search through the entire list, making the process cumbersome for such operations.\n",
        "\n",
        "7. Flexible Handling of Missing Values\n",
        "Default Behavior: With methods like get(), you can handle cases where a key doesn't exist in a dictionary without raising an error. You can also specify default values. Lists don’t have a direct equivalent for handling missing elements, and attempting to access an index that doesn’t exist will raise an error.\n",
        "8. Better for Dynamic Data\n",
        "Dynamic Mapping: Since dictionaries don’t rely on a fixed order like lists, they are better suited for tasks where the keys and values may change over time. This flexibility is beneficial for tasks like caching or database lookups.\n",
        "\n",
        "When to Use a Dictionary Over a List:\n",
        "\n",
        "Lookups based on identifiers: For tasks where you need to access values based on a unique identifier (e.g., ID to data).\n",
        "\n",
        "Data with unique attributes: When you have data where each item is uniquely identified (e.g., employee records with unique employee IDs).\n",
        "\n",
        "Associative relationships: For key-value pair relationships, such as a phone book, dictionary, or mapping.\n",
        "\n"
      ],
      "metadata": {
        "id": "U3PVBrsb1OWY"
      }
    },
    {
      "cell_type": "markdown",
      "source": [
        "Ques-12 Describe a scenario where using a tuple would be preferable over a list.\n",
        "\n",
        "Ans-12 A tuple would be preferable over a list in scenarios where you want to represent immutable data, ensuring that the data cannot be accidentally modified. Here’s an example scenario:\n",
        "\n",
        "Scenario: Storing Coordinates of a Fixed Location\n",
        "Imagine you are developing a navigation app and need to store the geographical coordinates (latitude and longitude) of a specific landmark, such as the Eiffel Tower. Since the coordinates will not change, a tuple is the ideal data structure.\n",
        "\n",
        "Why a Tuple?\n",
        "Immutability: Tuples are immutable, meaning the coordinates cannot be accidentally modified in your code. This is crucial because the data represents a fixed point in space.\n",
        "\n",
        "Performance: Tuples are generally faster than lists when it comes to iteration and access because they have a smaller memory footprint due to their immutability.\n",
        "\n",
        "Semantic Clarity: Using a tuple clearly communicates that the data is a fixed set of values that should not change, making your code more readable and understandable.\n",
        "\n",
        "In contrast, if you used a list for this, you would allow the possibility of accidentally altering the coordinates, which would defeat the purpose of representing fixed data.\n",
        "\n",
        "\n",
        "\n"
      ],
      "metadata": {
        "id": "Sf5sa8B-4G_m"
      }
    },
    {
      "cell_type": "markdown",
      "source": [
        "Ques-13 How do sets handle duplicate values in Python?\n",
        "\n",
        "Ans-13 In Python, sets automatically eliminate duplicate values. This means that when you try to add duplicate elements to a set, they will simply be ignored, and only unique values will be stored.\n",
        "\n",
        "Here's how it works:\n",
        "\n",
        "my_set = {1, 2, 3, 4, 5}\n",
        "\n",
        "# Adding a duplicate value\n",
        "my_set.add(3)\n",
        "\n",
        "# Adding a new value\n",
        "my_set.add(6)\n",
        "\n",
        "print(my_set)  # Output: {1, 2, 3, 4, 5, 6}\n",
        "\n",
        " Explanation:\n",
        "\n",
        "Initial Set: {1, 2, 3, 4, 5}\n",
        "\n",
        "Add duplicate (3): When you try to add 3, the set ignores it because 3 is already in the set.\n",
        "\n",
        "Add new element (6): When you add 6, the set successfully adds it, as 6 is not a duplicate.\n",
        "\n",
        "Key Points:\n",
        "\n",
        "Duplicates are automatically removed: If you try to add a value that already exists in the set, it will not be added again.\n",
        "\n",
        "Unordered: Sets do not maintain the order of elements, so the order of elements in the output may vary.\n",
        "\n",
        "Conclusion:\n",
        "\n",
        "Sets are useful when you need to store unique elements, and you don't care about the order in which they appear."
      ],
      "metadata": {
        "id": "OW_FY0Jm5VUt"
      }
    },
    {
      "cell_type": "markdown",
      "source": [
        "Ques-14  How does the “in” keyword work differently for lists and dictionaries?\n",
        "\n",
        "Ans-14 The in keyword in Python is used to check for membership (i.e., whether an element exists) in a collection. It works differently for lists and dictionaries due to their underlying data structures.\n",
        "\n",
        "1. For Lists:\n",
        "When you use the in keyword with a list, it checks whether the exact element exists anywhere in the list. The check is done by iterating over the list and comparing each element.\n",
        "\n",
        "my_list = [1, 2, 3, 4, 5]\n",
        "\n",
        "# Check if a value is in the list\n",
        "print(3 in my_list)  # Output: True\n",
        "print(6 in my_list)  # Output: False\n",
        "\n",
        "How it works:\n",
        "\n",
        "The in keyword checks if the value 3 exists in the list and returns True because 3 is an element of the list.\n",
        "\n",
        "The check for 6 returns False because 6 is not in the list.\n",
        "\n",
        "2. For Dictionaries:\n",
        "\n",
        "When you use the in keyword with a dictionary, it checks for the keys of the dictionary, not the values. The in keyword looks for the key in the dictionary's keys (not in values or key-value pairs)\n",
        "\n",
        "my_dict = {\"a\": 1, \"b\": 2, \"c\": 3}\n",
        "\n",
        "# Check if a key is in the dictionary\n",
        "print(\"a\" in my_dict)  # Output: True\n",
        "print(\"d\" in my_dict)  # Output: False\n",
        "\n",
        "How it works:\n",
        "\n",
        "The in keyword checks if the key \"a\" exists in the dictionary, returning True because \"a\" is a key in the dictionary.\n",
        "\n",
        "The check for \"d\" returns False because \"d\" is not a key in the dictionary.\n",
        "\n",
        "For checking if a value exists in a dictionary, you would need to use the values() method:\n",
        "\n",
        "print(2 in my_dict.values())  # Output: True\n",
        "print(5 in my_dict.values())  # Output: False\n",
        "\n",
        "Key Differences:\n",
        "\n",
        "Lists: The in keyword checks if the exact element exists in the list (whether it's a value).\n",
        "\n",
        "Dictionaries: The in keyword checks if a key exists in the dictionary.\n",
        "\n",
        "To summarize:\n",
        "\n",
        "in for lists: checks if the value exists in the list.\n",
        "\n",
        "in for dictionaries: checks if the key exists in the dictionary.\n",
        "\n",
        "\n"
      ],
      "metadata": {
        "id": "it6vLDsk6UtZ"
      }
    },
    {
      "cell_type": "markdown",
      "source": [
        "Ques-15 Can you modify the elements of a tuple? Explain why or why not?\n",
        "\n",
        "Ans-15 No, you cannot modify the elements of a tuple in Python. This is because tuples are immutable data structures. Once a tuple is created, its elements cannot be changed, added, or removed.\n",
        "\n",
        "Why Tuples Are Immutable:\n",
        "\n",
        "Immutability means that the data in a tuple cannot be altered after it is created. This property is by design, allowing tuples to be used as fixed collections of data.\n",
        "\n",
        "The immutability of tuples helps ensure data integrity, making them safer to use in situations where you don’t want the data to change, such as when working with constants or using tuples as dictionary keys.\n",
        "\n",
        "Why Tuples Are Immutable:\n",
        "\n",
        "Efficiency: Since tuples are immutable, they have a smaller memory footprint than lists, which allows them to be processed faster in some cases.\n",
        "\n",
        "Safety: Immutability ensures that the data remains unchanged, making them suitable for use as fixed data sets in multi-threaded environments or as keys in dictionaries.\n",
        "\n",
        "Hashability: Tuples can be used as dictionary keys or elements of a set, whereas lists cannot, because they are mutable and not hashable. The immutability of tuples ensures they remain hashable.\n",
        "\n",
        "Workaround for Modifying a Tuple:\n",
        "\n",
        "If you need to change the elements of a tuple, you must create a new tuple with the modified values.For example:\n",
        "\n",
        "# Original tuple\n",
        "\n",
        "my_tuple = (1, 2, 3)\n",
        "\n",
        "# Create a new tuple with modified elements\n",
        "\n",
        "modified_tuple = (10,) + my_tuple[1:]\n",
        "print(modified_tuple)  # Output: (10, 2, 3)\n",
        "\n",
        "In this case, you create a new tuple by concatenating a new element (10,) with the rest of the original tuple, effectively modifying the value at index 0.\n",
        "\n",
        "\n",
        "\n",
        "\n",
        "\n"
      ],
      "metadata": {
        "id": "8_GDZQfS7trF"
      }
    },
    {
      "cell_type": "markdown",
      "source": [
        "Ques-16 What is a nested dictionary, and give an example of its use case?\n",
        "\n",
        "Ans-16 A nested dictionary in Python is a dictionary where the value of a key is itself another dictionary (or potentially any other data structure like lists or tuples). This allows for more complex and hierarchical data to be stored in a structured way.\n",
        "\n",
        "Example of a Nested Dictionary:\n",
        "Here's an example of a nested dictionary where each key maps to another dictionary:\n",
        "\n",
        "# Nested dictionary example\n",
        "\n",
        "student_info = {\n",
        "    \"student1\": {\n",
        "        \"name\": \"Alice\",\n",
        "        \"age\": 20,\n",
        "        \"courses\": [\"Math\", \"Science\"]\n",
        "    },\n",
        "    \"student2\": {\n",
        "        \"name\": \"Bob\",\n",
        "        \"age\": 22,\n",
        "        \"courses\": [\"History\", \"Art\"]\n",
        "    }\n",
        "}\n",
        "\n",
        "# Accessing data from the nested dictionary\n",
        "\n",
        "print(student_info[\"student1\"][\"name\"])  # Output: Alice\n",
        "print(student_info[\"student2\"][\"courses\"])  # Output: ['History', 'Art']\n",
        "\n",
        "Use Case for a Nested Dictionary:\n",
        "\n",
        "A real-world use case for a nested dictionary could be managing employee records in an organization. Each employee could have multiple attributes such as personal information, job details, and contact information, with each category stored in its own sub-dictionary.\n",
        "\n",
        "Summary:\n",
        "\n",
        "A nested dictionary is a dictionary where the value of some keys can be another dictionary, which allows you to model complex relationships and hierarchies. It's useful for scenarios where you need to store and manage structured data, such as employee records, student information, or configurations for an application.\n"
      ],
      "metadata": {
        "id": "JrHEr2u485PR"
      }
    },
    {
      "cell_type": "markdown",
      "source": [
        "Ques-17 Describe the time complexity of accessing elements in a dictionary.\n",
        "\n",
        "Ans-17 The time complexity of accessing elements in a Python dictionary is O(1), which is often referred to as constant time complexity. This means that, on average, retrieving a value from a dictionary by key takes the same amount of time, regardless of the number of elements in the dictionary.\n",
        "\n",
        "Why is Dictionary Access O(1)?\n",
        "\n",
        "Dictionaries in Python are implemented using a hash table under the hood. When you try to access a value using a key, the dictionary computes a hash of the key and uses that hash to quickly locate the corresponding value in memory. This process is highly efficient, which is why the access time remains constant, regardless of the size of the dictionary.\n",
        "\n",
        "Steps for Accessing an Element:\n",
        "\n",
        "1-Hashing the key: The key is hashed using a hash function.\n",
        "\n",
        "2-Finding the location: The hash value is used to determine the location of the element in the underlying array or table.\n",
        "\n",
        "3-Retrieving the value: The value associated with the key is returned.\n",
        "\n",
        "Since these steps do not depend on the size of the dictionary (i.e., the number of key-value pairs), the access time is constant, making it O(1).\n",
        "\n"
      ],
      "metadata": {
        "id": "IeZWjFL09o3f"
      }
    },
    {
      "cell_type": "markdown",
      "source": [
        "Ques-18 In what situations are lists preferred over dictionaries?\n",
        "\n",
        "Ans-18 Lists and dictionaries are both powerful data structures in Python, but they serve different purposes. Lists are preferred over dictionaries in the following situations:\n",
        "\n",
        "1. When Order is Important:\n",
        "\n",
        "Lists are ordered, meaning the elements have a specific position, and you can access them by their index. If the order of items matters, such as when representing a sequence of values, lists are ideal.\n",
        "\n",
        "2. When You Need a Collection of Similar Items:\n",
        "Lists are more appropriate when you're dealing with a collection of items that are of the same type or category. They allow you to store multiple values in a linear fashion.\n",
        "\n",
        "3. When You Don’t Need Fast Lookups by Key:\n",
        "\n",
        "Dictionaries provide fast lookups based on a key, but if you don’t need this kind of functionality (i.e., you don’t need to map a value to a unique key), then a list is simpler and more efficient.\n",
        "\n",
        "Example: Just storing and iterating over values without needing to associate them with specific keys.\n",
        "\n",
        "4. When You Need to Iterate or Perform Operations on All Elements:\n",
        "\n",
        "Lists are naturally suited for iteration. If you need to loop through all elements or perform operations on each item (such as applying a function or sorting), lists make the task straightforward.\n",
        "\n",
        "5. When You Need to Modify Elements by Index:\n",
        "\n",
        "Lists allow you to access and modify elements by their index. If you need to change an element at a specific position, a list is the better choice.\n",
        "\n",
        "6. When You Need to Handle Duplicate Values:\n",
        "\n",
        "Lists allow duplicate values, so if the data set you are working with may contain the same item multiple times, a list is more suitable.\n",
        "\n",
        "7. When the Size of the Collection is Fixed or Known:\n",
        "\n",
        "If you know the collection size in advance, or the collection size won’t change dynamically, a list may be simpler to use.\n",
        "\n",
        "When to Use Dictionaries Instead:\n",
        "\n",
        "Dictionaries are more suitable when you need to associate unique keys with values, when fast lookups by key are needed, or when the data is inherently key-value in nature (e.g., mapping a person's name to their phone number).\n",
        "\n",
        "In summary, lists are preferred when you need an ordered, iterable collection of items, often of the same type, and you don't need efficient key-based lookups.\n",
        "\n",
        "\n",
        "\n",
        "\n",
        "\n",
        "\n"
      ],
      "metadata": {
        "id": "PouHf32E-gXV"
      }
    },
    {
      "cell_type": "markdown",
      "source": [
        "Ques-19 Why are dictionaries considered unordered, and how does that affect data retrieval?\n",
        "\n",
        "Ans-19 Dictionaries in Python are often described as unordered because they do not guarantee any specific order of elements based on their insertion. However, this is a bit nuanced due to the underlying implementation details.\n",
        "\n",
        "Why Dictionaries are Considered Unordered:\n",
        "\n",
        "Key-Value Pair Storage:\n",
        "Dictionaries are collections of key-value pairs. In Python, these pairs are stored in a way that optimizes fast lookup times based on the key. The values are not stored in a predictable, ordered sequence like lists are.\n",
        "\n",
        "No Defined Order Before Python 3.7:\n",
        "Before Python 3.7, dictionaries were explicitly unordered. The order of key-value pairs could vary each time you created or iterated over a dictionary. Python used a hash table to store dictionary entries, and this hash table does not guarantee any particular order for the key-value pairs.\n",
        "\n",
        "Changes in Python 3.7+:\n",
        "\n",
        "Starting with Python 3.7, the insertion order of items is preserved in dictionaries, meaning that if you insert items in a specific order, they will be retrieved in the same order when you iterate over the dictionary.\n",
        "\n",
        "However, this order preservation is not a feature of dictionaries but rather an implementation detail. Python dictionaries are still not considered \"ordered\" in the strict sense (like lists), because the primary purpose of dictionaries is to provide efficient key-based access rather than maintaining order.\n",
        "\n",
        "In Python 3.6 and earlier, dictionaries do not guarantee any order at all.\n",
        "\n",
        "How This Affects Data Retrieval:\n",
        "\n",
        "Efficient Key Lookup:\n",
        "\n",
        "Dictionaries are optimized for fast access to values via their keys, rather than by position (like list indexing). The retrieval time for a value is approximately constant, O(1), because the dictionary is implemented using a hash table.\n",
        "\n",
        "The fact that dictionaries are unordered does not affect data retrieval in terms of key lookups — you can still retrieve values by their keys efficiently.\n",
        "\n",
        "Iteration Order:\n",
        "\n",
        "In Python 3.7+, when you iterate over a dictionary, it will return the items in the order in which they were inserted. However, if you're iterating over a dictionary and expecting an order based on some specific criteria (e.g., alphabetical or numerical order of keys), you will need to explicitly sort the dictionary.\n",
        "\n",
        "Key Ordering in Dictionary Operations:\n",
        "\n",
        "While retrieval of data via keys is efficient, some dictionary operations (such as iterating over the items, or getting the keys or values) might give results in the order items were inserted (since Python 3.7).\n",
        "\n",
        "However, even in recent versions, ordering by a specific criteria (e.g., numerical order of keys or values) does not happen automatically.\n",
        "\n",
        "Conclusion:\n",
        "\n",
        "Dictionaries are unordered because they do not inherently maintain any specific order of the elements unless explicitly specified (by sorting or some other mechanism). Their primary strength lies in fast key-based lookups, rather than the ordering of elements.\n",
        "\n",
        "Starting with Python 3.7, dictionaries maintain insertion order, but that doesn't mean they behave like lists in terms of guaranteed order.\n",
        "\n",
        "When data retrieval involves key-based access, the unordered nature of dictionaries does not pose a problem, but if you need to maintain or access items in a sorted order, you must take additional steps, such as sorting the keys or values."
      ],
      "metadata": {
        "id": "ZxnLgOUVADec"
      }
    },
    {
      "cell_type": "markdown",
      "source": [
        "Ques-20 Explain the difference between a list and a dictionary in terms of data retrieval.\n",
        "\n",
        "Ans-20 The primary difference between a list and a dictionary in terms of data retrieval lies in how they store, access, and organize their elements. Here's a detailed comparison:\n",
        "\n",
        "1. Accessing Elements by Index vs. Key\n",
        "List:\n",
        "\n",
        "Data Retrieval: In a list, elements are retrieved using an index. The index is an integer that represents the position of the element in the list.\n",
        "\n",
        "How It Works: Lists are ordered collections, so each element has a specific index. To access an element, you provide the index number, and the list returns the element at that position.\n",
        "\n",
        "Indexing: Indexing is zero-based, meaning the first element is at index 0, the second at index 1, and so on.\n",
        "\n",
        "Dictionary:\n",
        "\n",
        "Data Retrieval: In a dictionary, elements are retrieved by a key. Each key is unique and is mapped to a specific value.\n",
        "\n",
        "How It Works: Dictionaries are key-value pairs, and you access the value by using the key associated with it.\n",
        "\n",
        "Keying: The key is not necessarily a number (it can be any immutable object, like a string, tuple, etc.), and the dictionary does not rely on the order of elements for retrieval.\n",
        "\n",
        "2-Order of Elements\n",
        "\n",
        "List:\n",
        "Lists are ordered (since Python 3.7), meaning the elements retain the order in which they were added. This allows you to retrieve items based on their position.\n",
        "\n",
        "Example: If the list is [10, 20, 30], element 20 is at index 1, and its position is fixed unless the list is modified.\n",
        "\n",
        "Dictionary:\n",
        "\n",
        "Dictionaries are unordered before Python 3.7, meaning you cannot rely on the order of the key-value pairs.\n",
        "\n",
        "Starting with Python 3.7, dictionaries preserve the insertion order, but this is not the same as the ordered structure of a list. The primary method of retrieval is by the key.\n",
        "\n",
        "3-Efficiency in Data Retrieval\n",
        "\n",
        "List:\n",
        "\n",
        "Lists provide O(1) time complexity for retrieving an element when you know its index (direct access).\n",
        "\n",
        "However, if you need to search for an element by value (not by index), it requires iterating through the list, resulting in O(n) time complexity.\n",
        "\n",
        "Dictionary:\n",
        "\n",
        "Dictionaries provide O(1) average time complexity for retrieving a value by key due to the hash table implementation. This makes key-based lookups extremely efficient.\n",
        "\n",
        "Searching for a key in a dictionary is a constant time operation (regardless of the size of the dictionary), whereas retrieving an element by its value requires iterating through the dictionary, which would be O(n).\n",
        "\n",
        "4-Data Storage and Retrieval Flexibility\n",
        "\n",
        "List:\n",
        "\n",
        "Lists are more suited for cases where the order of elements is important and where you retrieve data based on position (index). Lists are homogeneous (typically contain similar types of elements) and allow duplicate elements.\n",
        "\n",
        "Data retrieval is strictly position-based (index).\n",
        "\n",
        "Dictionary:\n",
        "\n",
        "Dictionaries are ideal when you need to associate a unique key with each piece of data and retrieve values based on those keys. They allow for heterogeneous data types and are more flexible for cases where you need to map one value to another.\n",
        "\n",
        "Data retrieval is strictly key-based, and duplicate keys are not allowed (each key is unique).\n",
        "\n",
        "Conclusion:\n",
        "\n",
        "Lists are great when you need to access elements by position (index) or if the order of items is important.\n",
        "\n",
        "Dictionaries are best suited for situations where you need fast lookups based on a unique key, and you don't care about maintaining an order based on indices.\n",
        "\n",
        "\n",
        "\n",
        "\n"
      ],
      "metadata": {
        "id": "ze31LNSWBq9o"
      }
    },
    {
      "cell_type": "code",
      "source": [
        "#Write a code to create a string with your name and print it\n",
        "\n",
        "  # Create a string with my name\n",
        "pavan = \"laptop\"\n",
        "\n",
        "# Print the string\n",
        "print(pavan)\n"
      ],
      "metadata": {
        "id": "CMmuR-rkDsVW",
        "colab": {
          "base_uri": "https://localhost:8080/"
        },
        "outputId": "5719a984-77a4-4e3a-80f8-92b8af0ec19c"
      },
      "execution_count": 3,
      "outputs": [
        {
          "output_type": "stream",
          "name": "stdout",
          "text": [
            "laptop\n"
          ]
        }
      ]
    },
    {
      "cell_type": "code",
      "source": [
        "#Write a code to find the length of the string \"Hello World\"\n",
        "\n",
        "#Here is a Python code to find the length of the string \"Hello World\":\n",
        "# Define the string\n",
        "string = \"Hello World\"\n",
        "\n",
        "# Find the length of the string\n",
        "length = len(string)\n",
        "\n",
        "# Print the length\n",
        "print(length)\n"
      ],
      "metadata": {
        "colab": {
          "base_uri": "https://localhost:8080/"
        },
        "id": "4bVbhYfvvgIF",
        "outputId": "90d2682e-a0df-4c83-b25b-513efc3d607a"
      },
      "execution_count": 8,
      "outputs": [
        {
          "output_type": "stream",
          "name": "stdout",
          "text": [
            "11\n"
          ]
        }
      ]
    },
    {
      "cell_type": "code",
      "source": [
        "#Write a code to slice the first 3 characters from the string \"Python Programming\"\n",
        "\n",
        "#Here is a Python code to slice the first 3 characters from the string \"Python Programming\"\n",
        "# Define the string\n",
        "string = \"Python Programming\"\n",
        "\n",
        "# Slice the first 3 characters\n",
        "sliced_string = string[:3]\n",
        "\n",
        "# Print the sliced string\n",
        "print(sliced_string)\n",
        "\n",
        "\n"
      ],
      "metadata": {
        "colab": {
          "base_uri": "https://localhost:8080/"
        },
        "id": "9mnd0C2Mvszv",
        "outputId": "753490f6-ef7a-4db1-e8d6-add431987b63"
      },
      "execution_count": 9,
      "outputs": [
        {
          "output_type": "stream",
          "name": "stdout",
          "text": [
            "Pyt\n"
          ]
        }
      ]
    },
    {
      "cell_type": "code",
      "source": [
        "#Write a code to convert the string \"hello\" to uppercase.\n",
        "\n",
        "#Here is a Python code to convert the string \"hello\" to uppercase:\n",
        "\n",
        "# Define the string\n",
        "string = \"hello\"\n",
        "\n",
        "# Convert the string to uppercase\n",
        "uppercase_string = string.upper()\n",
        "\n",
        "# Print the uppercase string\n",
        "print(uppercase_string)\n"
      ],
      "metadata": {
        "colab": {
          "base_uri": "https://localhost:8080/"
        },
        "id": "6lN3pLgCwygr",
        "outputId": "475badef-8650-4dcb-a35a-27f5e99d7191"
      },
      "execution_count": 10,
      "outputs": [
        {
          "output_type": "stream",
          "name": "stdout",
          "text": [
            "HELLO\n"
          ]
        }
      ]
    },
    {
      "cell_type": "code",
      "source": [
        "#Write a code to replace the word \"apple\" with \"orange\" in the string \"I like apple\"\n",
        "\n",
        "#Here is a Python code to replace the word \"apple\" with \"orange\" in the string \"I like apple\":\n",
        "\n",
        "# Define the string\n",
        "string = \"I like apple\"\n",
        "\n",
        "# Replace \"apple\" with \"orange\"\n",
        "modified_string = string.replace(\"apple\", \"orange\")\n",
        "\n",
        "# Print the modified string\n",
        "print(modified_string)\n"
      ],
      "metadata": {
        "colab": {
          "base_uri": "https://localhost:8080/"
        },
        "id": "x-oZP-f6xVXR",
        "outputId": "54665a92-42a6-4fd1-c078-4fb377b84ea1"
      },
      "execution_count": 11,
      "outputs": [
        {
          "output_type": "stream",
          "name": "stdout",
          "text": [
            "I like orange\n"
          ]
        }
      ]
    },
    {
      "cell_type": "code",
      "source": [
        "#Write a code to create a list with numbers 1 to 5 and print it\n",
        "\n",
        "#Here is a Python code to create a list with numbers from 1 to 5 and print it:\n",
        "\n",
        "# Create a list with numbers 1 to 5\n",
        "number_list = [1, 2, 3, 4, 5]\n",
        "\n",
        "# Print the list\n",
        "print(number_list)\n"
      ],
      "metadata": {
        "colab": {
          "base_uri": "https://localhost:8080/"
        },
        "id": "pKLYPDmzxpmo",
        "outputId": "6e9d85a2-cf2d-4329-de63-95b0583c26d5"
      },
      "execution_count": 12,
      "outputs": [
        {
          "output_type": "stream",
          "name": "stdout",
          "text": [
            "[1, 2, 3, 4, 5]\n"
          ]
        }
      ]
    },
    {
      "cell_type": "code",
      "source": [
        "#Write a code to append the number 10 to the list [1, 2, 3, 4]\n",
        "\n",
        "#here is a Python code to append the number 10 to the list [1, 2, 3, 4]\n",
        "\n",
        "# Define the list\n",
        "number_list = [1, 2, 3, 4]\n",
        "\n",
        "# Append the number 10 to the list\n",
        "number_list.append(10)\n",
        "\n",
        "# Print the updated list\n",
        "print(number_list)\n"
      ],
      "metadata": {
        "colab": {
          "base_uri": "https://localhost:8080/"
        },
        "id": "sw73GZsGyOr3",
        "outputId": "e5405713-5577-40c9-8cf5-c5a458bce7ff"
      },
      "execution_count": 13,
      "outputs": [
        {
          "output_type": "stream",
          "name": "stdout",
          "text": [
            "[1, 2, 3, 4, 10]\n"
          ]
        }
      ]
    },
    {
      "cell_type": "code",
      "source": [
        "#Write a code to remove the number 3 from the list [1, 2, 3, 4, 5]\n",
        "\n",
        "#Here is a Python code to remove the number 3 from the list [1, 2, 3, 4, 5]:\n",
        "\n",
        "# Define the list\n",
        "number_list = [1, 2, 3, 4, 5]\n",
        "\n",
        "# Remove the number 3 from the list\n",
        "number_list.remove(3)\n",
        "\n",
        "# Print the updated list\n",
        "print(number_list)\n",
        "\n"
      ],
      "metadata": {
        "colab": {
          "base_uri": "https://localhost:8080/"
        },
        "id": "aLmt196LyjpC",
        "outputId": "9d0517b9-987e-4b1d-e2ae-3829d3c78de9"
      },
      "execution_count": 14,
      "outputs": [
        {
          "output_type": "stream",
          "name": "stdout",
          "text": [
            "[1, 2, 4, 5]\n"
          ]
        }
      ]
    },
    {
      "cell_type": "code",
      "source": [
        "#Write a code to access the second element in the list ['a', 'b', 'c', 'd']\n",
        "\n",
        "#Here is a Python code to access the second element in the list ['a', 'b', 'c', 'd']:\n",
        "\n",
        "# Define the list\n",
        "my_list = ['a', 'b', 'c', 'd']\n",
        "\n",
        "# Access the second element (index 1)\n",
        "second_element = my_list[1]\n",
        "\n",
        "# Print the second element\n",
        "print(second_element)\n",
        "\n"
      ],
      "metadata": {
        "colab": {
          "base_uri": "https://localhost:8080/"
        },
        "id": "kDofaJssy4_H",
        "outputId": "240fe422-e046-4dd9-c355-f2f490c701db"
      },
      "execution_count": 15,
      "outputs": [
        {
          "output_type": "stream",
          "name": "stdout",
          "text": [
            "b\n"
          ]
        }
      ]
    },
    {
      "cell_type": "code",
      "source": [
        "#Write a code to reverse the list [10, 20, 30, 40, 50]\n",
        "\n",
        "## Define the list\n",
        "my_list = [10, 20, 30, 40, 50]\n",
        "\n",
        "# Reverse the list\n",
        "my_list.reverse()\n",
        "\n",
        "# Print the reversed list\n",
        "print(my_list)\n"
      ],
      "metadata": {
        "colab": {
          "base_uri": "https://localhost:8080/"
        },
        "id": "8ny36vhOzGd8",
        "outputId": "8e14ace7-91e0-411b-da71-17e5128ccf4c"
      },
      "execution_count": 16,
      "outputs": [
        {
          "output_type": "stream",
          "name": "stdout",
          "text": [
            "[50, 40, 30, 20, 10]\n"
          ]
        }
      ]
    },
    {
      "cell_type": "code",
      "source": [
        "#Write a code to create a tuple with the elements 10, 20, 30 and print it.\n",
        "\n",
        "# Create a tuple with elements 10, 20, 30\n",
        "my_tuple = (10, 20, 30)\n",
        "\n",
        "# Print the tuple\n",
        "print(my_tuple)\n"
      ],
      "metadata": {
        "colab": {
          "base_uri": "https://localhost:8080/"
        },
        "id": "qVqwrFi5zTUe",
        "outputId": "235fd888-d945-4786-d0f5-65548b323ed6"
      },
      "execution_count": 17,
      "outputs": [
        {
          "output_type": "stream",
          "name": "stdout",
          "text": [
            "(10, 20, 30)\n"
          ]
        }
      ]
    },
    {
      "cell_type": "code",
      "source": [
        "# Write a code to access the first element of the tuple ('apple', 'banana', 'cherry')\n",
        "\n",
        "# Define the tuple\n",
        "my_tuple = ('apple', 'banana', 'cherry')\n",
        "\n",
        "# Access the first element (index 0)\n",
        "first_element = my_tuple[0]\n",
        "\n",
        "# Print the first element\n",
        "print(first_element)\n"
      ],
      "metadata": {
        "colab": {
          "base_uri": "https://localhost:8080/"
        },
        "id": "OlhTxxXfzhrU",
        "outputId": "817d5c4f-4409-4ace-9ff6-ba9cff019712"
      },
      "execution_count": 18,
      "outputs": [
        {
          "output_type": "stream",
          "name": "stdout",
          "text": [
            "apple\n"
          ]
        }
      ]
    },
    {
      "cell_type": "code",
      "source": [
        "#Write a code to count how many times the number 2 appears in the tuple (1, 2, 3, 2, 4, 2).\n",
        "\n",
        "# Define the tuple\n",
        "my_tuple = (1, 2, 3, 2, 4, 2)\n",
        "\n",
        "# Count how many times the number 2 appears in the tuple\n",
        "count_of_2 = my_tuple.count(2)\n",
        "\n",
        "# Print the count\n",
        "print(count_of_2)\n"
      ],
      "metadata": {
        "colab": {
          "base_uri": "https://localhost:8080/"
        },
        "id": "2d-PoEEfzuke",
        "outputId": "6073cefc-82df-41a7-e174-42b12846f8b1"
      },
      "execution_count": 19,
      "outputs": [
        {
          "output_type": "stream",
          "name": "stdout",
          "text": [
            "3\n"
          ]
        }
      ]
    },
    {
      "cell_type": "code",
      "source": [
        "#Write a code to find the index of the element \"cat\" in the tuple ('dog', 'cat', 'rabbit').\n",
        "\n",
        "#Here is a Python code to find the index of the element \"cat\" in the tuple ('dog', 'cat', 'rabbit'):\n",
        "\n",
        "# Define the tuple\n",
        "my_tuple = ('dog', 'cat', 'rabbit')\n",
        "\n",
        "# Find the index of the element \"cat\"\n",
        "index_of_cat = my_tuple.index('cat')\n",
        "\n",
        "# Print the index\n",
        "print(index_of_cat)\n"
      ],
      "metadata": {
        "colab": {
          "base_uri": "https://localhost:8080/"
        },
        "id": "hjNGaqLa0zTe",
        "outputId": "dd3a870f-ca62-4b4a-a34f-199077f6dc5b"
      },
      "execution_count": 20,
      "outputs": [
        {
          "output_type": "stream",
          "name": "stdout",
          "text": [
            "1\n"
          ]
        }
      ]
    },
    {
      "cell_type": "code",
      "source": [
        "#Write a code to check if the element \"banana\" is in the tuple ('apple', 'orange', 'banana').\n",
        "\n",
        "#Here is a Python code to check if the element \"banana\" is in the tuple ('apple', 'orange', 'banana')\n",
        "\n",
        "# Define the tuple\n",
        "my_tuple = ('apple', 'orange', 'banana')\n",
        "\n",
        "# Check if \"banana\" is in the tuple\n",
        "is_banana_in_tuple = 'banana' in my_tuple\n",
        "\n",
        "# Print the result\n",
        "print(is_banana_in_tuple)\n"
      ],
      "metadata": {
        "colab": {
          "base_uri": "https://localhost:8080/"
        },
        "id": "Rwe4Tth21GhI",
        "outputId": "f8326d93-9e8c-4153-89ff-e050f4a7d3cd"
      },
      "execution_count": 21,
      "outputs": [
        {
          "output_type": "stream",
          "name": "stdout",
          "text": [
            "True\n"
          ]
        }
      ]
    },
    {
      "cell_type": "code",
      "source": [
        "#Write a code to create a set with the elements 1, 2, 3, 4, 5 and print it.\n",
        "\n",
        "#Here is a Python code to create a set with the elements 1, 2, 3, 4, 5 and print it:\n",
        "\n",
        "# Create a set with elements 1, 2, 3, 4, 5\n",
        "my_set = {1, 2, 3, 4, 5}\n",
        "\n",
        "# Print the set\n",
        "print(my_set)\n"
      ],
      "metadata": {
        "colab": {
          "base_uri": "https://localhost:8080/"
        },
        "id": "F0Pni6Ht1VA-",
        "outputId": "0cf32334-1525-40c6-a118-f8792aa8ddd6"
      },
      "execution_count": 22,
      "outputs": [
        {
          "output_type": "stream",
          "name": "stdout",
          "text": [
            "{1, 2, 3, 4, 5}\n"
          ]
        }
      ]
    },
    {
      "cell_type": "code",
      "source": [
        "#Write a code to add the element 6 to the set {1, 2, 3, 4}.\n",
        "\n",
        "#To add the element 6 to the set {1, 2, 3, 4}, you can use the add() method in Python. Here's the code to achieve that:\n",
        "\n",
        "# Define the initial set\n",
        "my_set = {1, 2, 3, 4}\n",
        "\n",
        "# Add the element 6 to the set\n",
        "my_set.add(6)\n",
        "\n",
        "# Print the updated set\n",
        "print(my_set)\n"
      ],
      "metadata": {
        "colab": {
          "base_uri": "https://localhost:8080/"
        },
        "id": "Lg-NIdab1gvp",
        "outputId": "39d6e637-00fa-40ba-9c69-26d9175ac890"
      },
      "execution_count": 23,
      "outputs": [
        {
          "output_type": "stream",
          "name": "stdout",
          "text": [
            "{1, 2, 3, 4, 6}\n"
          ]
        }
      ]
    },
    {
      "cell_type": "code",
      "source": [
        "#Write a code to create a tuple with the elements 10, 20, 30 and print it.\n",
        "\n",
        "#Here's the Python code to create a tuple with the elements 10, 20, and 30 and print it:\n",
        "\n",
        "# Create a tuple with the specified elements\n",
        "my_tuple = (10, 20, 30)\n",
        "\n",
        "# Print the tuple\n",
        "print(my_tuple)\n"
      ],
      "metadata": {
        "colab": {
          "base_uri": "https://localhost:8080/"
        },
        "id": "VyCjJX2a19cc",
        "outputId": "6c5fa7a4-3174-40b4-b801-95278f54635e"
      },
      "execution_count": 24,
      "outputs": [
        {
          "output_type": "stream",
          "name": "stdout",
          "text": [
            "(10, 20, 30)\n"
          ]
        }
      ]
    },
    {
      "cell_type": "code",
      "source": [
        "#Write a code to access the first element of the tuple ('apple', 'banana', 'cherry').\n",
        "\n",
        "#To access the first element of the tuple ('apple', 'banana', 'cherry'), you can use indexing. Here's the code:\n",
        "\n",
        "# Define the tuple\n",
        "my_tuple = ('apple', 'banana', 'cherry')\n",
        "\n",
        "# Access the first element\n",
        "first_element = my_tuple[0]\n",
        "\n",
        "# Print the first element\n",
        "print(first_element)\n"
      ],
      "metadata": {
        "colab": {
          "base_uri": "https://localhost:8080/"
        },
        "id": "7AHlqgyP2O9b",
        "outputId": "c57c8e76-a158-45cf-93b2-14296349e2c4"
      },
      "execution_count": 25,
      "outputs": [
        {
          "output_type": "stream",
          "name": "stdout",
          "text": [
            "apple\n"
          ]
        }
      ]
    },
    {
      "cell_type": "code",
      "source": [
        "#Write a code to count how many times the number 2 appears in the tuple (1, 2, 3, 2, 4, 2).\n",
        "\n",
        "#To count how many times the number 2 appears in the tuple (1, 2, 3, 2, 4, 2), you can use the count() method. Here's the code:\n",
        "\n",
        "# Define the tuple\n",
        "my_tuple = (1, 2, 3, 2, 4, 2)\n",
        "\n",
        "# Count how many times the number 2 appears\n",
        "count_of_2 = my_tuple.count(2)\n",
        "\n",
        "# Print the count\n",
        "print(count_of_2)\n"
      ],
      "metadata": {
        "colab": {
          "base_uri": "https://localhost:8080/"
        },
        "id": "kBKtpbYJ2fil",
        "outputId": "c4e0d5b4-01eb-4170-89ce-a3372c36503d"
      },
      "execution_count": 26,
      "outputs": [
        {
          "output_type": "stream",
          "name": "stdout",
          "text": [
            "3\n"
          ]
        }
      ]
    },
    {
      "cell_type": "code",
      "source": [
        "#Write a code to find the index of the element \"cat\" in the tuple ('dog', 'cat', 'rabbit').\n",
        "\n",
        "#To find the index of the element \"cat\" in the tuple ('dog', 'cat', 'rabbit'), you can use the index() method. Here's the code:\n",
        "# Define the tuple\n",
        "my_tuple = ('dog', 'cat', 'rabbit')\n",
        "\n",
        "# Find the index of the element 'cat'\n",
        "index_of_cat = my_tuple.index('cat')\n",
        "\n",
        "# Print the index\n",
        "print(index_of_cat)\n"
      ],
      "metadata": {
        "colab": {
          "base_uri": "https://localhost:8080/"
        },
        "id": "CuPgXjq52xIt",
        "outputId": "57846350-fabb-4800-fda8-eda44ee8f0af"
      },
      "execution_count": 27,
      "outputs": [
        {
          "output_type": "stream",
          "name": "stdout",
          "text": [
            "1\n"
          ]
        }
      ]
    },
    {
      "cell_type": "code",
      "source": [
        "#Write a code to check if the element \"banana\" is in the tuple ('apple', 'orange', 'banana').\n",
        "\n",
        "#To check if the element \"banana\" is in the tuple ('apple', 'orange', 'banana'), you can use the in operator. Here's the code:\n",
        "\n",
        "# Define the tuple\n",
        "my_tuple = ('apple', 'orange', 'banana')\n",
        "\n",
        "# Check if \"banana\" is in the tuple\n",
        "is_banana_in_tuple = 'banana' in my_tuple\n",
        "\n",
        "# Print the result\n",
        "print(is_banana_in_tuple)\n"
      ],
      "metadata": {
        "colab": {
          "base_uri": "https://localhost:8080/"
        },
        "id": "GeO1atv729bO",
        "outputId": "5e4286a2-4894-40f4-dba1-db88c53770e7"
      },
      "execution_count": 29,
      "outputs": [
        {
          "output_type": "stream",
          "name": "stdout",
          "text": [
            "True\n"
          ]
        }
      ]
    },
    {
      "cell_type": "code",
      "source": [
        "#Write a code to create a set with the elements 1, 2, 3, 4, 5 and print it.\n",
        "\n",
        "#Here is the Python code to create a set with the elements 1, 2, 3, 4, 5 and print it:\n",
        "\n",
        "# Create a set with the specified elements\n",
        "my_set = {1, 2, 3, 4, 5}\n",
        "\n",
        "# Print the set\n",
        "print(my_set)\n"
      ],
      "metadata": {
        "colab": {
          "base_uri": "https://localhost:8080/"
        },
        "id": "zZy08unk3j9R",
        "outputId": "54ba8010-340d-41e5-e48b-1444c52f6849"
      },
      "execution_count": 30,
      "outputs": [
        {
          "output_type": "stream",
          "name": "stdout",
          "text": [
            "{1, 2, 3, 4, 5}\n"
          ]
        }
      ]
    },
    {
      "cell_type": "code",
      "source": [
        "# Write a code to add the element 6 to the set {1, 2, 3, 4}.\n",
        "\n",
        "#Here is the Python code to add the element 6 to the set {1, 2, 3, 4}:\n",
        "\n",
        "# Define the initial set\n",
        "my_set = {1, 2, 3, 4}\n",
        "\n",
        "# Add the element 6 to the set\n",
        "my_set.add(6)\n",
        "\n",
        "# Print the updated set\n",
        "print(my_set)\n"
      ],
      "metadata": {
        "colab": {
          "base_uri": "https://localhost:8080/"
        },
        "id": "LI4Tfbdl3sSa",
        "outputId": "afa69fe3-1454-4063-cfbc-f721ba9df154"
      },
      "execution_count": 31,
      "outputs": [
        {
          "output_type": "stream",
          "name": "stdout",
          "text": [
            "{1, 2, 3, 4, 6}\n"
          ]
        }
      ]
    }
  ]
}